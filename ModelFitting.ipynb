{
 "cells": [
  {
   "cell_type": "code",
   "execution_count": 1,
   "metadata": {
    "collapsed": true
   },
   "outputs": [
    {
     "name": "stderr",
     "output_type": "stream",
     "text": [
      "2023-01-29 00:56:37.941781: I tensorflow/core/platform/cpu_feature_guard.cc:193] This TensorFlow binary is optimized with oneAPI Deep Neural Network Library (oneDNN) to use the following CPU instructions in performance-critical operations:  AVX2 FMA\n",
      "To enable them in other operations, rebuild TensorFlow with the appropriate compiler flags.\n",
      "2023-01-29 00:56:39.098783: W tensorflow/compiler/xla/stream_executor/platform/default/dso_loader.cc:64] Could not load dynamic library 'libnvinfer.so.7'; dlerror: libnvinfer.so.7: cannot open shared object file: No such file or directory\n",
      "2023-01-29 00:56:39.098978: W tensorflow/compiler/xla/stream_executor/platform/default/dso_loader.cc:64] Could not load dynamic library 'libnvinfer_plugin.so.7'; dlerror: libnvinfer_plugin.so.7: cannot open shared object file: No such file or directory\n",
      "2023-01-29 00:56:39.098987: W tensorflow/compiler/tf2tensorrt/utils/py_utils.cc:38] TF-TRT Warning: Cannot dlopen some TensorRT libraries. If you would like to use Nvidia GPU with TensorRT, please make sure the missing libraries mentioned above are installed properly.\n"
     ]
    }
   ],
   "source": [
    "import DataGenerator\n",
    "import ShipDetection\n",
    "from keras.callbacks import EarlyStopping, ReduceLROnPlateau\n",
    "from keras.layers import Input\n",
    "from keras.optimizers import Adam\n",
    "import pandas as pd\n",
    "from sklearn.model_selection import train_test_split"
   ]
  },
  {
   "cell_type": "markdown",
   "metadata": {},
   "source": [
    "Set local variables"
   ]
  },
  {
   "cell_type": "code",
   "execution_count": 2,
   "metadata": {},
   "outputs": [],
   "source": [
    "imgWidth = 256\n",
    "imgHeight = 256\n",
    "batch_size = 12\n",
    "val_ratio = 0.2\n",
    "trainDir = \"data/airbus-ship-detection/train_v2/\""
   ]
  },
  {
   "cell_type": "markdown",
   "metadata": {},
   "source": [
    "Set paths to data"
   ]
  },
  {
   "cell_type": "code",
   "execution_count": 3,
   "outputs": [],
   "source": [
    "train_ship_segmentations_v2 = pd.read_csv(\"data/airbus-ship-detection/train_ship_segmentations_v2.csv\")\n",
    "train_ship_segmentations_v2.set_index(\"ImageId\", inplace=True)\n",
    "withShipsDf = train_ship_segmentations_v2[train_ship_segmentations_v2[\"EncodedPixels\"].isna()==False]\n",
    "paths = trainDir+withShipsDf.index.to_numpy()[int(len(withShipsDf)/2):]\n",
    "val_amount = int(len(paths)*val_ratio)\n",
    "trainPaths, validationPaths = train_test_split(paths, test_size=val_amount)"
   ],
   "metadata": {
    "collapsed": false
   }
  },
  {
   "cell_type": "markdown",
   "metadata": {},
   "source": [
    "Create Data generators for model"
   ]
  },
  {
   "cell_type": "code",
   "execution_count": 4,
   "metadata": {},
   "outputs": [],
   "source": [
    "training_generator = DataGenerator.DataGenerator(trainPaths,\n",
    "                                                 train_ship_segmentations_v2,\n",
    "                                                 batch_size=batch_size)\n",
    "validation_generator = DataGenerator.DataGenerator(validationPaths,\n",
    "                                                   train_ship_segmentations_v2,\n",
    "                                                   batch_size=batch_size)"
   ]
  },
  {
   "cell_type": "markdown",
   "metadata": {},
   "source": [
    "Create model"
   ]
  },
  {
   "cell_type": "code",
   "execution_count": 57,
   "metadata": {},
   "outputs": [],
   "source": [
    "inputImg = Input((imgWidth, imgHeight, 3), name='img')\n",
    "model = ShipDetection.get_unet(inputImg)\n",
    "model.compile(optimizer=Adam(learning_rate=0.01), loss=ShipDetection.jacard_coef_loss,metrics=[ShipDetection.jacard_coef], run_eagerly=True)"
   ]
  },
  {
   "cell_type": "code",
   "execution_count": 58,
   "metadata": {},
   "outputs": [
    {
     "name": "stdout",
     "output_type": "stream",
     "text": [
      "Model: \"model_5\"\n",
      "__________________________________________________________________________________________________\n",
      " Layer (type)                   Output Shape         Param #     Connected to                     \n",
      "==================================================================================================\n",
      " img (InputLayer)               [(None, 256, 256, 3  0           []                               \n",
      "                                )]                                                                \n",
      "                                                                                                  \n",
      " conv2d_96 (Conv2D)             (None, 256, 256, 16  448         ['img[0][0]']                    \n",
      "                                )                                                                 \n",
      "                                                                                                  \n",
      " batch_normalization_91 (BatchN  (None, 256, 256, 16  64         ['conv2d_96[0][0]']              \n",
      " ormalization)                  )                                                                 \n",
      "                                                                                                  \n",
      " activation_91 (Activation)     (None, 256, 256, 16  0           ['batch_normalization_91[0][0]'] \n",
      "                                )                                                                 \n",
      "                                                                                                  \n",
      " max_pooling2d_20 (MaxPooling2D  (None, 128, 128, 16  0          ['activation_91[0][0]']          \n",
      " )                              )                                                                 \n",
      "                                                                                                  \n",
      " dropout_40 (Dropout)           (None, 128, 128, 16  0           ['max_pooling2d_20[0][0]']       \n",
      "                                )                                                                 \n",
      "                                                                                                  \n",
      " conv2d_98 (Conv2D)             (None, 128, 128, 32  4640        ['dropout_40[0][0]']             \n",
      "                                )                                                                 \n",
      "                                                                                                  \n",
      " batch_normalization_93 (BatchN  (None, 128, 128, 32  128        ['conv2d_98[0][0]']              \n",
      " ormalization)                  )                                                                 \n",
      "                                                                                                  \n",
      " activation_93 (Activation)     (None, 128, 128, 32  0           ['batch_normalization_93[0][0]'] \n",
      "                                )                                                                 \n",
      "                                                                                                  \n",
      " max_pooling2d_21 (MaxPooling2D  (None, 64, 64, 32)  0           ['activation_93[0][0]']          \n",
      " )                                                                                                \n",
      "                                                                                                  \n",
      " dropout_41 (Dropout)           (None, 64, 64, 32)   0           ['max_pooling2d_21[0][0]']       \n",
      "                                                                                                  \n",
      " conv2d_100 (Conv2D)            (None, 64, 64, 64)   18496       ['dropout_41[0][0]']             \n",
      "                                                                                                  \n",
      " batch_normalization_95 (BatchN  (None, 64, 64, 64)  256         ['conv2d_100[0][0]']             \n",
      " ormalization)                                                                                    \n",
      "                                                                                                  \n",
      " activation_95 (Activation)     (None, 64, 64, 64)   0           ['batch_normalization_95[0][0]'] \n",
      "                                                                                                  \n",
      " max_pooling2d_22 (MaxPooling2D  (None, 32, 32, 64)  0           ['activation_95[0][0]']          \n",
      " )                                                                                                \n",
      "                                                                                                  \n",
      " dropout_42 (Dropout)           (None, 32, 32, 64)   0           ['max_pooling2d_22[0][0]']       \n",
      "                                                                                                  \n",
      " conv2d_102 (Conv2D)            (None, 32, 32, 128)  73856       ['dropout_42[0][0]']             \n",
      "                                                                                                  \n",
      " batch_normalization_97 (BatchN  (None, 32, 32, 128)  512        ['conv2d_102[0][0]']             \n",
      " ormalization)                                                                                    \n",
      "                                                                                                  \n",
      " activation_97 (Activation)     (None, 32, 32, 128)  0           ['batch_normalization_97[0][0]'] \n",
      "                                                                                                  \n",
      " max_pooling2d_23 (MaxPooling2D  (None, 16, 16, 128)  0          ['activation_97[0][0]']          \n",
      " )                                                                                                \n",
      "                                                                                                  \n",
      " dropout_43 (Dropout)           (None, 16, 16, 128)  0           ['max_pooling2d_23[0][0]']       \n",
      "                                                                                                  \n",
      " conv2d_104 (Conv2D)            (None, 16, 16, 256)  295168      ['dropout_43[0][0]']             \n",
      "                                                                                                  \n",
      " batch_normalization_99 (BatchN  (None, 16, 16, 256)  1024       ['conv2d_104[0][0]']             \n",
      " ormalization)                                                                                    \n",
      "                                                                                                  \n",
      " activation_99 (Activation)     (None, 16, 16, 256)  0           ['batch_normalization_99[0][0]'] \n",
      "                                                                                                  \n",
      " conv2d_transpose_20 (Conv2DTra  (None, 32, 32, 128)  295040     ['activation_99[0][0]']          \n",
      " nspose)                                                                                          \n",
      "                                                                                                  \n",
      " concatenate_20 (Concatenate)   (None, 32, 32, 256)  0           ['conv2d_transpose_20[0][0]',    \n",
      "                                                                  'activation_97[0][0]']          \n",
      "                                                                                                  \n",
      " dropout_44 (Dropout)           (None, 32, 32, 256)  0           ['concatenate_20[0][0]']         \n",
      "                                                                                                  \n",
      " conv2d_106 (Conv2D)            (None, 32, 32, 128)  295040      ['dropout_44[0][0]']             \n",
      "                                                                                                  \n",
      " batch_normalization_101 (Batch  (None, 32, 32, 128)  512        ['conv2d_106[0][0]']             \n",
      " Normalization)                                                                                   \n",
      "                                                                                                  \n",
      " activation_101 (Activation)    (None, 32, 32, 128)  0           ['batch_normalization_101[0][0]']\n",
      "                                                                                                  \n",
      " conv2d_transpose_21 (Conv2DTra  (None, 64, 64, 64)  73792       ['activation_101[0][0]']         \n",
      " nspose)                                                                                          \n",
      "                                                                                                  \n",
      " concatenate_21 (Concatenate)   (None, 64, 64, 128)  0           ['conv2d_transpose_21[0][0]',    \n",
      "                                                                  'activation_95[0][0]']          \n",
      "                                                                                                  \n",
      " dropout_45 (Dropout)           (None, 64, 64, 128)  0           ['concatenate_21[0][0]']         \n",
      "                                                                                                  \n",
      " conv2d_108 (Conv2D)            (None, 64, 64, 64)   73792       ['dropout_45[0][0]']             \n",
      "                                                                                                  \n",
      " batch_normalization_103 (Batch  (None, 64, 64, 64)  256         ['conv2d_108[0][0]']             \n",
      " Normalization)                                                                                   \n",
      "                                                                                                  \n",
      " activation_103 (Activation)    (None, 64, 64, 64)   0           ['batch_normalization_103[0][0]']\n",
      "                                                                                                  \n",
      " conv2d_transpose_22 (Conv2DTra  (None, 128, 128, 32  18464      ['activation_103[0][0]']         \n",
      " nspose)                        )                                                                 \n",
      "                                                                                                  \n",
      " concatenate_22 (Concatenate)   (None, 128, 128, 64  0           ['conv2d_transpose_22[0][0]',    \n",
      "                                )                                 'activation_93[0][0]']          \n",
      "                                                                                                  \n",
      " dropout_46 (Dropout)           (None, 128, 128, 64  0           ['concatenate_22[0][0]']         \n",
      "                                )                                                                 \n",
      "                                                                                                  \n",
      " conv2d_110 (Conv2D)            (None, 128, 128, 32  18464       ['dropout_46[0][0]']             \n",
      "                                )                                                                 \n",
      "                                                                                                  \n",
      " batch_normalization_105 (Batch  (None, 128, 128, 32  128        ['conv2d_110[0][0]']             \n",
      " Normalization)                 )                                                                 \n",
      "                                                                                                  \n",
      " activation_105 (Activation)    (None, 128, 128, 32  0           ['batch_normalization_105[0][0]']\n",
      "                                )                                                                 \n",
      "                                                                                                  \n",
      " conv2d_transpose_23 (Conv2DTra  (None, 256, 256, 16  4624       ['activation_105[0][0]']         \n",
      " nspose)                        )                                                                 \n",
      "                                                                                                  \n",
      " concatenate_23 (Concatenate)   (None, 256, 256, 32  0           ['conv2d_transpose_23[0][0]',    \n",
      "                                )                                 'activation_91[0][0]']          \n",
      "                                                                                                  \n",
      " dropout_47 (Dropout)           (None, 256, 256, 32  0           ['concatenate_23[0][0]']         \n",
      "                                )                                                                 \n",
      "                                                                                                  \n",
      " conv2d_112 (Conv2D)            (None, 256, 256, 16  4624        ['dropout_47[0][0]']             \n",
      "                                )                                                                 \n",
      "                                                                                                  \n",
      " batch_normalization_107 (Batch  (None, 256, 256, 16  64         ['conv2d_112[0][0]']             \n",
      " Normalization)                 )                                                                 \n",
      "                                                                                                  \n",
      " activation_107 (Activation)    (None, 256, 256, 16  0           ['batch_normalization_107[0][0]']\n",
      "                                )                                                                 \n",
      "                                                                                                  \n",
      " conv2d_113 (Conv2D)            (None, 256, 256, 1)  17          ['activation_107[0][0]']         \n",
      "                                                                                                  \n",
      "==================================================================================================\n",
      "Total params: 1,179,409\n",
      "Trainable params: 1,177,937\n",
      "Non-trainable params: 1,472\n",
      "__________________________________________________________________________________________________\n"
     ]
    }
   ],
   "source": [
    "model.summary()"
   ]
  },
  {
   "cell_type": "markdown",
   "metadata": {},
   "source": [
    "Set fitting callbacks"
   ]
  },
  {
   "cell_type": "code",
   "execution_count": 59,
   "metadata": {},
   "outputs": [],
   "source": [
    "callbacks = [\n",
    "    EarlyStopping(patience=2, verbose=1),\n",
    "    ReduceLROnPlateau(factor=0.1, patience=1, min_lr=0.00001, verbose=1)\n",
    "]"
   ]
  },
  {
   "cell_type": "markdown",
   "metadata": {},
   "source": [
    "Fit model"
   ]
  },
  {
   "cell_type": "code",
   "execution_count": 61,
   "metadata": {},
   "outputs": [
    {
     "name": "stdout",
     "output_type": "stream",
     "text": [
      "Epoch 1/20\n",
      "2724/2724 [==============================] - 973s 357ms/step - loss: -0.4360 - jacard_coef: 0.4360 - val_loss: -0.4693 - val_jacard_coef: 0.4693 - lr: 0.0100\n",
      "Epoch 2/20\n",
      "2724/2724 [==============================] - 970s 356ms/step - loss: -0.5197 - jacard_coef: 0.5197 - val_loss: -0.5304 - val_jacard_coef: 0.5304 - lr: 0.0100\n",
      "Epoch 3/20\n",
      "2724/2724 [==============================] - 969s 356ms/step - loss: -0.5575 - jacard_coef: 0.5575 - val_loss: -0.5547 - val_jacard_coef: 0.5547 - lr: 0.0100\n",
      "Epoch 4/20\n",
      "2724/2724 [==============================] - ETA: 0s - loss: -0.5847 - jacard_coef: 0.5847\n",
      "Epoch 4: ReduceLROnPlateau reducing learning rate to 0.0009999999776482583.\n",
      "2724/2724 [==============================] - 966s 355ms/step - loss: -0.5847 - jacard_coef: 0.5847 - val_loss: -0.5539 - val_jacard_coef: 0.5539 - lr: 0.0100\n",
      "Epoch 5/20\n",
      "2724/2724 [==============================] - 969s 356ms/step - loss: -0.6311 - jacard_coef: 0.6311 - val_loss: -0.6418 - val_jacard_coef: 0.6418 - lr: 1.0000e-03\n",
      "Epoch 6/20\n",
      "2724/2724 [==============================] - 970s 356ms/step - loss: -0.6438 - jacard_coef: 0.6438 - val_loss: -0.6489 - val_jacard_coef: 0.6489 - lr: 1.0000e-03\n",
      "Epoch 7/20\n",
      "2724/2724 [==============================] - 971s 356ms/step - loss: -0.6519 - jacard_coef: 0.6519 - val_loss: -0.6581 - val_jacard_coef: 0.6581 - lr: 1.0000e-03\n",
      "Epoch 8/20\n",
      "2724/2724 [==============================] - 968s 355ms/step - loss: -0.6579 - jacard_coef: 0.6579 - val_loss: -0.6612 - val_jacard_coef: 0.6612 - lr: 1.0000e-03\n",
      "Epoch 9/20\n",
      "2724/2724 [==============================] - 994s 365ms/step - loss: -0.6637 - jacard_coef: 0.6637 - val_loss: -0.6676 - val_jacard_coef: 0.6676 - lr: 1.0000e-03\n",
      "Epoch 10/20\n",
      "2724/2724 [==============================] - 1000s 367ms/step - loss: -0.6684 - jacard_coef: 0.6684 - val_loss: -0.6682 - val_jacard_coef: 0.6682 - lr: 1.0000e-03\n",
      "Epoch 11/20\n",
      "2724/2724 [==============================] - 1005s 369ms/step - loss: -0.6733 - jacard_coef: 0.6733 - val_loss: -0.6758 - val_jacard_coef: 0.6758 - lr: 1.0000e-03\n",
      "Epoch 12/20\n",
      "2724/2724 [==============================] - 1004s 369ms/step - loss: -0.6780 - jacard_coef: 0.6780 - val_loss: -0.6804 - val_jacard_coef: 0.6804 - lr: 1.0000e-03\n",
      "Epoch 13/20\n",
      "2724/2724 [==============================] - 1012s 372ms/step - loss: -0.6819 - jacard_coef: 0.6819 - val_loss: -0.6830 - val_jacard_coef: 0.6830 - lr: 1.0000e-03\n",
      "Epoch 14/20\n",
      "2724/2724 [==============================] - 988s 363ms/step - loss: -0.6859 - jacard_coef: 0.6859 - val_loss: -0.6875 - val_jacard_coef: 0.6875 - lr: 1.0000e-03\n",
      "Epoch 15/20\n",
      "2724/2724 [==============================] - 1003s 368ms/step - loss: -0.6895 - jacard_coef: 0.6895 - val_loss: -0.6904 - val_jacard_coef: 0.6904 - lr: 1.0000e-03\n",
      "Epoch 16/20\n",
      "2724/2724 [==============================] - 974s 357ms/step - loss: -0.6933 - jacard_coef: 0.6933 - val_loss: -0.6955 - val_jacard_coef: 0.6955 - lr: 1.0000e-03\n",
      "Epoch 17/20\n",
      "2724/2724 [==============================] - ETA: 0s - loss: -0.6958 - jacard_coef: 0.6958\n",
      "Epoch 17: ReduceLROnPlateau reducing learning rate to 9.999999310821295e-05.\n",
      "2724/2724 [==============================] - 990s 363ms/step - loss: -0.6958 - jacard_coef: 0.6958 - val_loss: -0.6890 - val_jacard_coef: 0.6890 - lr: 1.0000e-03\n",
      "Epoch 18/20\n",
      "2724/2724 [==============================] - 1016s 373ms/step - loss: -0.7018 - jacard_coef: 0.7018 - val_loss: -0.6981 - val_jacard_coef: 0.6981 - lr: 1.0000e-04\n",
      "Epoch 19/20\n",
      "2724/2724 [==============================] - 1014s 372ms/step - loss: -0.7029 - jacard_coef: 0.7029 - val_loss: -0.6992 - val_jacard_coef: 0.6992 - lr: 1.0000e-04\n",
      "Epoch 20/20\n",
      "2724/2724 [==============================] - 1019s 374ms/step - loss: -0.7037 - jacard_coef: 0.7037 - val_loss: -0.6996 - val_jacard_coef: 0.6996 - lr: 1.0000e-04\n"
     ]
    }
   ],
   "source": [
    "results = model.fit(training_generator,\n",
    "                    validation_data=validation_generator,\n",
    "                    epochs=20,\n",
    "                    callbacks=callbacks,\n",
    "                    verbose=1\n",
    "                    )"
   ]
  },
  {
   "cell_type": "code",
   "execution_count": 62,
   "outputs": [
    {
     "name": "stderr",
     "output_type": "stream",
     "text": [
      "WARNING:absl:Found untraced functions such as _jit_compiled_convolution_op, _jit_compiled_convolution_op, _jit_compiled_convolution_op, _jit_compiled_convolution_op, _jit_compiled_convolution_op while saving (showing 5 of 14). These functions will not be directly callable after loading.\n"
     ]
    },
    {
     "name": "stdout",
     "output_type": "stream",
     "text": [
      "INFO:tensorflow:Assets written to: model_jaccard/assets\n"
     ]
    },
    {
     "name": "stderr",
     "output_type": "stream",
     "text": [
      "INFO:tensorflow:Assets written to: model_jaccard/assets\n"
     ]
    }
   ],
   "source": [
    "model.save(\"model_jaccard\")"
   ],
   "metadata": {
    "collapsed": false
   }
  }
 ],
 "metadata": {
  "kernelspec": {
   "display_name": "Python 3 (ipykernel)",
   "language": "python",
   "name": "python3"
  },
  "language_info": {
   "codemirror_mode": {
    "name": "ipython",
    "version": 3
   },
   "file_extension": ".py",
   "mimetype": "text/x-python",
   "name": "python",
   "nbconvert_exporter": "python",
   "pygments_lexer": "ipython3",
   "version": "3.10.6"
  }
 },
 "nbformat": 4,
 "nbformat_minor": 1
}
